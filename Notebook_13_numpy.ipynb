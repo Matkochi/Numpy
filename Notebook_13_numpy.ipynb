{
  "cells": [
    {
      "cell_type": "markdown",
      "metadata": {
        "id": "view-in-github",
        "colab_type": "text"
      },
      "source": [
        "<a href=\"https://colab.research.google.com/github/Matkochi/Numpy/blob/main/Notebook_13_numpy.ipynb\" target=\"_parent\"><img src=\"https://colab.research.google.com/assets/colab-badge.svg\" alt=\"Open In Colab\"/></a>"
      ]
    },
    {
      "cell_type": "markdown",
      "metadata": {
        "id": "sZ9D2YxTksk8"
      },
      "source": [
        "# Aula 13 - NumPy\n",
        "\n",
        "Na aula de hoje, vamos explorar os seguintes tópicos em Python:\n",
        "\n",
        "- 1) NumPy\n",
        "\n",
        "_____________\n",
        "\n",
        "### Problema gerador: como fazer facilmente operações elemento a elemento em listas?\n",
        "\n",
        "Isto é, suponha que eu tenho duas listas, e quero somar os elementos delas em uma terceira lista. Como fazer isso facilmente?"
      ]
    },
    {
      "cell_type": "markdown",
      "metadata": {
        "id": "oZyd9PLckslA"
      },
      "source": [
        "___"
      ]
    },
    {
      "cell_type": "code",
      "execution_count": null,
      "metadata": {
        "id": "zom4Qk_AkslB"
      },
      "outputs": [],
      "source": [
        "lista1 = [1, 2, 3, 4]\n",
        "lista2 = [10, 20, 30, 40]"
      ]
    },
    {
      "cell_type": "code",
      "execution_count": null,
      "metadata": {
        "id": "-159QOW_kslC"
      },
      "outputs": [],
      "source": [
        "lista3 = [11, 22, 33, 44]"
      ]
    },
    {
      "cell_type": "code",
      "execution_count": null,
      "metadata": {
        "id": "FAWLfknckslD",
        "outputId": "e6fe0d50-61c9-443e-898b-4bcd772a753f"
      },
      "outputs": [
        {
          "data": {
            "text/plain": [
              "[1, 2, 3, 4, 10, 20, 30, 40]"
            ]
          },
          "execution_count": 3,
          "metadata": {},
          "output_type": "execute_result"
        }
      ],
      "source": [
        "lista1 + lista2"
      ]
    },
    {
      "cell_type": "code",
      "execution_count": null,
      "metadata": {
        "id": "UeE4ZqubkslE",
        "outputId": "2ec88d69-4c9d-47af-c5ce-13e06f689e95"
      },
      "outputs": [
        {
          "data": {
            "text/plain": [
              "[11, 22, 33, 44]"
            ]
          },
          "execution_count": 4,
          "metadata": {},
          "output_type": "execute_result"
        }
      ],
      "source": [
        "lista3 = []\n",
        "\n",
        "for i in range(len(lista1)):\n",
        "\n",
        "    lista3.append(lista1[i] + lista2[i])\n",
        "\n",
        "lista3"
      ]
    },
    {
      "cell_type": "markdown",
      "metadata": {
        "id": "Yjhi_xFAkslF"
      },
      "source": [
        "Hoje vamos conhecer uma bilioteca que permite que façamos estas operações de maneira bem simples!"
      ]
    },
    {
      "cell_type": "markdown",
      "metadata": {
        "id": "TEt9x5zckslG"
      },
      "source": [
        "___"
      ]
    },
    {
      "cell_type": "markdown",
      "metadata": {
        "id": "OvIEJE7JkslG"
      },
      "source": [
        "## 1) NumPy"
      ]
    },
    {
      "cell_type": "markdown",
      "metadata": {
        "id": "s4j40HH0kslH"
      },
      "source": [
        "A biblioteca **NumPy** _(Numerical Python)_ proporciona uma forma eficiente de armazenagem e processamento de conjuntos de dados, e é utilizada como base para a construção da biblioteca Pandas, que já conhecemos, além de várias outras bibliotecas importantes pra ciência de dados!\n",
        "\n",
        "O diferencial do Numpy é sua velocidade e eficiência, o que faz com que ela seja amplamente utilizada para computação científica e analise de dados.\n",
        "\n",
        "A velocidade e eficiência é possível graças à estrutura chamada **numpy array**, que é um forma eficiente de guardar e manipular matrizes, ou, de forma mais genérica, **tensores**.\n",
        "\n",
        "<img src=\"https://predictivehacks.com/wp-content/uploads/2020/08/numpy_arrays-1024x572.png\" width=500>"
      ]
    },
    {
      "cell_type": "code",
      "execution_count": null,
      "metadata": {
        "id": "fUCubuitkslI"
      },
      "outputs": [],
      "source": [
        "import numpy as np"
      ]
    },
    {
      "cell_type": "markdown",
      "metadata": {
        "id": "Pg8G1DZKkslJ"
      },
      "source": [
        "#### Criando arrays\n",
        "\n",
        "Pra criar arrays a partir de uma lista, basta utilizar a função **np.array()**"
      ]
    },
    {
      "cell_type": "code",
      "execution_count": null,
      "metadata": {
        "ExecuteTime": {
          "end_time": "2023-04-28T15:06:44.705982Z",
          "start_time": "2023-04-28T15:06:44.682962Z"
        },
        "id": "WefOX8_TkslJ",
        "outputId": "5fa66382-b033-4dbf-8e89-b0ea562a9ded"
      },
      "outputs": [
        {
          "data": {
            "text/plain": [
              "[1, 2, 3, 4]"
            ]
          },
          "execution_count": 7,
          "metadata": {},
          "output_type": "execute_result"
        }
      ],
      "source": [
        "# array a partir de uma lista\n",
        "\n",
        "lista1"
      ]
    },
    {
      "cell_type": "code",
      "execution_count": null,
      "metadata": {
        "id": "c3m8yz_YkslK",
        "outputId": "062f2cd0-6e54-4abb-d65e-b9436eb12587"
      },
      "outputs": [
        {
          "data": {
            "text/plain": [
              "array([1, 2, 3, 4])"
            ]
          },
          "execution_count": 9,
          "metadata": {},
          "output_type": "execute_result"
        }
      ],
      "source": [
        "arr = np.array(lista1)\n",
        "\n",
        "arr"
      ]
    },
    {
      "cell_type": "code",
      "execution_count": null,
      "metadata": {
        "id": "2pA6XdEvkslK",
        "outputId": "899f0ca1-8490-4959-f383-1dd93ce35bca"
      },
      "outputs": [
        {
          "data": {
            "text/plain": [
              "array([1, 2, 3, 4])"
            ]
          },
          "execution_count": 10,
          "metadata": {},
          "output_type": "execute_result"
        }
      ],
      "source": [
        "arr"
      ]
    },
    {
      "cell_type": "code",
      "execution_count": null,
      "metadata": {
        "id": "wRYMDrYCkslL",
        "outputId": "41702d20-38e8-4f4e-c83e-a989b21b4f96"
      },
      "outputs": [
        {
          "name": "stdout",
          "output_type": "stream",
          "text": [
            "[1 2 3 4]\n"
          ]
        }
      ],
      "source": [
        "print(arr)"
      ]
    },
    {
      "cell_type": "markdown",
      "metadata": {
        "id": "j1D1XqLgkslL"
      },
      "source": [
        "#### Outras formas de inicializar arrays..."
      ]
    },
    {
      "cell_type": "code",
      "execution_count": null,
      "metadata": {
        "ExecuteTime": {
          "end_time": "2023-04-28T15:06:50.029972Z",
          "start_time": "2023-04-28T15:06:50.010875Z"
        },
        "id": "vgdwprqzkslL",
        "outputId": "f0771e56-8ea7-4baf-badb-3b400b788e9f"
      },
      "outputs": [
        {
          "data": {
            "text/plain": [
              "array([0., 0., 0., 0., 0.])"
            ]
          },
          "execution_count": 12,
          "metadata": {},
          "output_type": "execute_result"
        }
      ],
      "source": [
        "# Array de zeros com np.zeros(n)\n",
        "\n",
        "np.zeros(5)"
      ]
    },
    {
      "cell_type": "code",
      "execution_count": null,
      "metadata": {
        "ExecuteTime": {
          "end_time": "2023-04-28T15:06:51.031545Z",
          "start_time": "2023-04-28T15:06:51.017529Z"
        },
        "id": "O1VqcMeXkslM",
        "outputId": "9dae9516-6f4a-4225-ac1c-415efd1b3bb3"
      },
      "outputs": [
        {
          "data": {
            "text/plain": [
              "array([1., 1., 1., 1., 1., 1., 1., 1., 1., 1.])"
            ]
          },
          "execution_count": 13,
          "metadata": {},
          "output_type": "execute_result"
        }
      ],
      "source": [
        "# Criando array só com 1s com np.ones(n)\n",
        "\n",
        "np.ones(10)"
      ]
    },
    {
      "cell_type": "code",
      "execution_count": null,
      "metadata": {
        "id": "ULrINqtMkslM",
        "outputId": "0f2368f9-dc4b-4a24-e708-136cb6195b61"
      },
      "outputs": [
        {
          "data": {
            "text/plain": [
              "array([5, 5, 5])"
            ]
          },
          "execution_count": 14,
          "metadata": {},
          "output_type": "execute_result"
        }
      ],
      "source": [
        "np.array([5, 5, 5])"
      ]
    },
    {
      "cell_type": "code",
      "execution_count": null,
      "metadata": {
        "id": "ZxP4l_FtkslM",
        "outputId": "9730c200-3011-45a9-f417-8a28e3979deb"
      },
      "outputs": [
        {
          "ename": "AttributeError",
          "evalue": "module 'numpy' has no attribute 'fives'",
          "output_type": "error",
          "traceback": [
            "\u001b[1;31m---------------------------------------------------------------------------\u001b[0m",
            "\u001b[1;31mAttributeError\u001b[0m                            Traceback (most recent call last)",
            "\u001b[1;32m~\\AppData\\Local\\Temp\\ipykernel_18284\\71185877.py\u001b[0m in \u001b[0;36m<module>\u001b[1;34m\u001b[0m\n\u001b[1;32m----> 1\u001b[1;33m \u001b[0mnp\u001b[0m\u001b[1;33m.\u001b[0m\u001b[0mfives\u001b[0m\u001b[1;33m(\u001b[0m\u001b[1;36m3\u001b[0m\u001b[1;33m)\u001b[0m\u001b[1;33m\u001b[0m\u001b[1;33m\u001b[0m\u001b[0m\n\u001b[0m",
            "\u001b[1;32m~\\anaconda3\\lib\\site-packages\\numpy\\__init__.py\u001b[0m in \u001b[0;36m__getattr__\u001b[1;34m(attr)\u001b[0m\n\u001b[0;32m    311\u001b[0m                 \u001b[1;32mreturn\u001b[0m \u001b[0mTester\u001b[0m\u001b[1;33m\u001b[0m\u001b[1;33m\u001b[0m\u001b[0m\n\u001b[0;32m    312\u001b[0m \u001b[1;33m\u001b[0m\u001b[0m\n\u001b[1;32m--> 313\u001b[1;33m             raise AttributeError(\"module {!r} has no attribute \"\n\u001b[0m\u001b[0;32m    314\u001b[0m                                  \"{!r}\".format(__name__, attr))\n\u001b[0;32m    315\u001b[0m \u001b[1;33m\u001b[0m\u001b[0m\n",
            "\u001b[1;31mAttributeError\u001b[0m: module 'numpy' has no attribute 'fives'"
          ]
        }
      ],
      "source": [
        "np.fives(3)"
      ]
    },
    {
      "cell_type": "code",
      "execution_count": null,
      "metadata": {
        "ExecuteTime": {
          "end_time": "2023-04-28T15:06:57.221266Z",
          "start_time": "2023-04-28T15:06:57.201169Z"
        },
        "id": "IWjWOjotkslN",
        "outputId": "561c6a06-e958-4425-8aa0-392b9bc3f445"
      },
      "outputs": [
        {
          "data": {
            "text/plain": [
              "[0, 1, 2, 3, 4, 5, 6, 7, 8, 9]"
            ]
          },
          "execution_count": 17,
          "metadata": {},
          "output_type": "execute_result"
        }
      ],
      "source": [
        "# Criando array de números em sequência com o np.arange() - análogo ao range()!\n",
        "\n",
        "list(range(10))"
      ]
    },
    {
      "cell_type": "code",
      "execution_count": null,
      "metadata": {
        "id": "IZuDrtDukslN",
        "outputId": "17fc242a-ff32-429c-94d8-230b321a4000"
      },
      "outputs": [
        {
          "data": {
            "text/plain": [
              "array([0, 1, 2, 3, 4, 5, 6, 7, 8, 9])"
            ]
          },
          "execution_count": 18,
          "metadata": {},
          "output_type": "execute_result"
        }
      ],
      "source": [
        "np.arange(10)"
      ]
    },
    {
      "cell_type": "code",
      "execution_count": null,
      "metadata": {
        "ExecuteTime": {
          "end_time": "2023-04-28T15:07:00.854817Z",
          "start_time": "2023-04-28T15:07:00.839191Z"
        },
        "id": "AmPclZFjkslN",
        "outputId": "60d81f43-1032-46fe-fcc5-775e5d2dde05"
      },
      "outputs": [
        {
          "data": {
            "text/plain": [
              "array([10, 13, 16, 19])"
            ]
          },
          "execution_count": 21,
          "metadata": {},
          "output_type": "execute_result"
        }
      ],
      "source": [
        "# se não explicitar o passo, o padrão será 1\n",
        "# se der apenas um argumento, o padrão é começar em 0 com passo 1\n",
        "# ou seja, será uma sequência com o número indicado de elementos, iniciando em zero\n",
        "\n",
        "np.arange(10, 20, 3)"
      ]
    },
    {
      "cell_type": "code",
      "execution_count": null,
      "metadata": {
        "ExecuteTime": {
          "end_time": "2023-04-28T15:07:45.691141Z",
          "start_time": "2023-04-28T15:07:45.672074Z"
        },
        "id": "B-76UkGGkslN",
        "outputId": "ab0fd912-da39-4704-c0f1-6166ad4bd85d"
      },
      "outputs": [
        {
          "ename": "TypeError",
          "evalue": "'float' object cannot be interpreted as an integer",
          "output_type": "error",
          "traceback": [
            "\u001b[1;31m---------------------------------------------------------------------------\u001b[0m",
            "\u001b[1;31mTypeError\u001b[0m                                 Traceback (most recent call last)",
            "\u001b[1;32m~\\AppData\\Local\\Temp\\ipykernel_18284\\153656161.py\u001b[0m in \u001b[0;36m<module>\u001b[1;34m\u001b[0m\n\u001b[0;32m      1\u001b[0m \u001b[1;31m# diferente do range, aqui podemos ter passo float\u001b[0m\u001b[1;33m\u001b[0m\u001b[1;33m\u001b[0m\u001b[0m\n\u001b[0;32m      2\u001b[0m \u001b[1;33m\u001b[0m\u001b[0m\n\u001b[1;32m----> 3\u001b[1;33m \u001b[0mrange\u001b[0m\u001b[1;33m(\u001b[0m\u001b[1;36m10\u001b[0m\u001b[1;33m,\u001b[0m \u001b[1;36m20\u001b[0m\u001b[1;33m,\u001b[0m \u001b[1;36m0.5\u001b[0m\u001b[1;33m)\u001b[0m\u001b[1;33m\u001b[0m\u001b[1;33m\u001b[0m\u001b[0m\n\u001b[0m",
            "\u001b[1;31mTypeError\u001b[0m: 'float' object cannot be interpreted as an integer"
          ]
        }
      ],
      "source": [
        "# diferente do range, aqui podemos ter passo float\n",
        "\n",
        "range(10, 20, 0.5)"
      ]
    },
    {
      "cell_type": "code",
      "execution_count": null,
      "metadata": {
        "id": "P2Su-WQtkslO",
        "outputId": "7e818adf-3b94-4117-a234-6615407e3b94"
      },
      "outputs": [
        {
          "data": {
            "text/plain": [
              "array([10. , 10.5, 11. , 11.5, 12. , 12.5, 13. , 13.5, 14. , 14.5, 15. ,\n",
              "       15.5, 16. , 16.5, 17. , 17.5, 18. , 18.5, 19. , 19.5])"
            ]
          },
          "execution_count": 23,
          "metadata": {},
          "output_type": "execute_result"
        }
      ],
      "source": [
        "np.arange(10, 20, 0.5)"
      ]
    },
    {
      "cell_type": "code",
      "execution_count": null,
      "metadata": {
        "ExecuteTime": {
          "end_time": "2023-04-28T15:07:58.272244Z",
          "start_time": "2023-04-28T15:07:58.256308Z"
        },
        "id": "6byTlVixkslO",
        "outputId": "160b5822-bacb-4eaa-95e1-eb0e11d5a4a2"
      },
      "outputs": [
        {
          "data": {
            "text/plain": [
              "array([10.        , 10.20408163, 10.40816327, 10.6122449 , 10.81632653,\n",
              "       11.02040816, 11.2244898 , 11.42857143, 11.63265306, 11.83673469,\n",
              "       12.04081633, 12.24489796, 12.44897959, 12.65306122, 12.85714286,\n",
              "       13.06122449, 13.26530612, 13.46938776, 13.67346939, 13.87755102,\n",
              "       14.08163265, 14.28571429, 14.48979592, 14.69387755, 14.89795918,\n",
              "       15.10204082, 15.30612245, 15.51020408, 15.71428571, 15.91836735,\n",
              "       16.12244898, 16.32653061, 16.53061224, 16.73469388, 16.93877551,\n",
              "       17.14285714, 17.34693878, 17.55102041, 17.75510204, 17.95918367,\n",
              "       18.16326531, 18.36734694, 18.57142857, 18.7755102 , 18.97959184,\n",
              "       19.18367347, 19.3877551 , 19.59183673, 19.79591837, 20.        ])"
            ]
          },
          "execution_count": 26,
          "metadata": {},
          "output_type": "execute_result"
        }
      ],
      "source": [
        "# np.linspace(): array com sequência de valores igualmente espaçados\n",
        "# primeiro argumento: inicio do intervalo\n",
        "# segundo argumento: fim do intervalo\n",
        "# terceiro argumento: número de valores\n",
        "\n",
        "np.linspace(10, 20, 50)"
      ]
    },
    {
      "cell_type": "code",
      "execution_count": null,
      "metadata": {
        "ExecuteTime": {
          "end_time": "2023-04-28T15:08:00.737253Z",
          "start_time": "2023-04-28T15:08:00.702296Z"
        },
        "id": "vp5ODkZIkslO",
        "outputId": "afd2fd59-b398-4352-a3ac-e7f8de7373ee"
      },
      "outputs": [
        {
          "data": {
            "text/plain": [
              "array([0.77132064, 0.02075195, 0.63364823, 0.74880388, 0.49850701,\n",
              "       0.22479665, 0.19806286, 0.76053071, 0.16911084, 0.08833981])"
            ]
          },
          "execution_count": 41,
          "metadata": {},
          "output_type": "execute_result"
        }
      ],
      "source": [
        "# np.random.rand()\n",
        "# array com valores aleatorios de uma distribuição uniforme entre 0 e 1 (exclusivo)\n",
        "\n",
        "np.random.seed(10)\n",
        "\n",
        "np.random.rand(10)"
      ]
    },
    {
      "cell_type": "code",
      "execution_count": null,
      "metadata": {
        "ExecuteTime": {
          "end_time": "2023-04-28T15:08:05.241003Z",
          "start_time": "2023-04-28T15:08:05.225019Z"
        },
        "id": "eRlrJ4e9kslO",
        "outputId": "7c73167d-ad44-4ef0-fc73-6ea3fd0c7382"
      },
      "outputs": [
        {
          "data": {
            "text/plain": [
              "array([85, 96, 47, 21, 31, 43, 53, 98, 83, 50, 53, 81, 18, 95, 82, 38, 40,\n",
              "       99, 35, 88])"
            ]
          },
          "execution_count": 49,
          "metadata": {},
          "output_type": "execute_result"
        }
      ],
      "source": [
        "# np.random.randint()\n",
        "# array com inteiros aleatórios dentro de um intervalo\n",
        "# argumentos: início do intervalo, fim do intervalo (exclusivo), quantidade de números\n",
        "\n",
        "np.random.randint(10, 100, 20)"
      ]
    },
    {
      "cell_type": "code",
      "execution_count": null,
      "metadata": {
        "id": "HxBxnmLYkslP",
        "outputId": "338c6b09-4f95-45ad-a10b-512acdb91810"
      },
      "outputs": [
        {
          "data": {
            "text/plain": [
              "array([ 10,  11,  12,  13,  14,  15,  16,  17,  18,  19,  20,  21,  22,\n",
              "        23,  24,  25,  26,  27,  28,  29,  30,  31,  32,  33,  34,  35,\n",
              "        36,  37,  38,  39,  40,  41,  42,  43,  44,  45,  46,  47,  48,\n",
              "        49,  50,  51,  52,  53,  54,  55,  56,  57,  58,  59,  60,  61,\n",
              "        62,  63,  64,  65,  66,  67,  68,  69,  70,  71,  72,  73,  74,\n",
              "        75,  76,  77,  78,  79,  80,  81,  82,  83,  84,  85,  86,  87,\n",
              "        88,  89,  90,  91,  92,  93,  94,  95,  96,  97,  98,  99, 100])"
            ]
          },
          "execution_count": 51,
          "metadata": {},
          "output_type": "execute_result"
        }
      ],
      "source": [
        "np.arange(10, 101)"
      ]
    },
    {
      "cell_type": "code",
      "execution_count": null,
      "metadata": {
        "ExecuteTime": {
          "end_time": "2023-04-28T15:08:09.624980Z",
          "start_time": "2023-04-28T15:08:09.589241Z"
        },
        "id": "uK3cjL-skslP",
        "outputId": "2e36f969-713d-4c6d-b2ea-c78697aaf298"
      },
      "outputs": [
        {
          "data": {
            "text/plain": [
              "array([94, 95, 50, 91, 21, 40, 39, 36, 47, 80, 55, 49, 14, 84, 62, 64, 10,\n",
              "       60, 69, 20])"
            ]
          },
          "execution_count": 56,
          "metadata": {},
          "output_type": "execute_result"
        }
      ],
      "source": [
        "# array de inteiros aleatorios sem reposição\n",
        "\n",
        "np.random.choice(np.arange(10, 101), 20, replace=False)"
      ]
    },
    {
      "cell_type": "code",
      "execution_count": null,
      "metadata": {
        "ExecuteTime": {
          "end_time": "2023-04-28T15:08:12.839800Z",
          "start_time": "2023-04-28T15:08:12.822730Z"
        },
        "scrolled": true,
        "id": "xiPJzwzrkslP",
        "outputId": "1722e0c3-4f28-4d33-d952-f7ef28be3bfb"
      },
      "outputs": [
        {
          "data": {
            "text/plain": [
              "array([ 0.64240224,  0.35391273,  0.18905934,  0.39189534, -0.25791779,\n",
              "        0.27052142,  0.20767358,  0.32091083, -0.57922817,  0.57946424,\n",
              "        0.42987133,  0.10899376,  1.47401228,  0.46103756,  0.75084293,\n",
              "        1.18846317, -0.09800878,  0.97964785,  2.20274597, -0.44942869])"
            ]
          },
          "execution_count": 59,
          "metadata": {},
          "output_type": "execute_result"
        }
      ],
      "source": [
        "# np.random.normal()\n",
        "# array com números aleatórios de uma distribuição normal (gaussiana)\n",
        "# argumentos: média, desvio padrão, quantidade de números\n",
        "\n",
        "np.random.normal(0, 1, 20)"
      ]
    },
    {
      "cell_type": "markdown",
      "metadata": {
        "id": "fPgLUOINkslP"
      },
      "source": [
        "#### Indexação\n",
        "\n",
        "É possível acessar elementos individuais dos arrays pelos **índices**, da mesma forma que fazemos com listas."
      ]
    },
    {
      "cell_type": "code",
      "execution_count": null,
      "metadata": {
        "ExecuteTime": {
          "end_time": "2023-04-28T15:08:24.508172Z",
          "start_time": "2023-04-28T15:08:24.491872Z"
        },
        "id": "2qzYjVltkslQ",
        "outputId": "b9154fe4-dc8d-493f-aedb-bee7722873f9"
      },
      "outputs": [
        {
          "data": {
            "text/plain": [
              "array([ 2,  5,  8, 11, 14, 17, 20, 23, 26, 29, 32, 35, 38, 41, 44, 47])"
            ]
          },
          "execution_count": 61,
          "metadata": {},
          "output_type": "execute_result"
        }
      ],
      "source": [
        "# indexação de arrays - igualzinho a listas\n",
        "\n",
        "arr = np.arange(2, 50, 3)\n",
        "\n",
        "arr"
      ]
    },
    {
      "cell_type": "code",
      "execution_count": null,
      "metadata": {
        "id": "FdOZAugOkslQ",
        "outputId": "be40d528-745e-451d-8db2-af86f2e60cf4"
      },
      "outputs": [
        {
          "data": {
            "text/plain": [
              "11"
            ]
          },
          "execution_count": 62,
          "metadata": {},
          "output_type": "execute_result"
        }
      ],
      "source": [
        "arr[3]"
      ]
    },
    {
      "cell_type": "code",
      "execution_count": null,
      "metadata": {
        "id": "8_8JiPbIkslQ",
        "outputId": "cd3e3a6b-2280-454b-cd70-1ba28926a9a6"
      },
      "outputs": [
        {
          "data": {
            "text/plain": [
              "41"
            ]
          },
          "execution_count": 63,
          "metadata": {},
          "output_type": "execute_result"
        }
      ],
      "source": [
        "arr[-3]"
      ]
    },
    {
      "cell_type": "code",
      "execution_count": null,
      "metadata": {
        "id": "U6LD-66AkslQ",
        "outputId": "b19d8fad-66d5-4281-a92b-dd04d5b87d7e"
      },
      "outputs": [
        {
          "data": {
            "text/plain": [
              "array([ 2,  5,  8, 11])"
            ]
          },
          "execution_count": 64,
          "metadata": {},
          "output_type": "execute_result"
        }
      ],
      "source": [
        "arr[:4]"
      ]
    },
    {
      "cell_type": "code",
      "execution_count": null,
      "metadata": {
        "id": "OPtDLVHtkslQ",
        "outputId": "628d0a61-fd2e-43bf-d228-3a66ce8652cf"
      },
      "outputs": [
        {
          "data": {
            "text/plain": [
              "array([35, 38, 41, 44, 47])"
            ]
          },
          "execution_count": 65,
          "metadata": {},
          "output_type": "execute_result"
        }
      ],
      "source": [
        "arr[-5:]"
      ]
    },
    {
      "cell_type": "code",
      "execution_count": null,
      "metadata": {
        "id": "oJBJbMV8kslR",
        "outputId": "7a011bd3-679a-4627-8b5a-2994dfa661ba"
      },
      "outputs": [
        {
          "data": {
            "text/plain": [
              "array([11, 14])"
            ]
          },
          "execution_count": 66,
          "metadata": {},
          "output_type": "execute_result"
        }
      ],
      "source": [
        "arr[3:5]"
      ]
    },
    {
      "cell_type": "markdown",
      "metadata": {
        "id": "cnjXtjyDkslW"
      },
      "source": [
        "#### Operações com arrays\n",
        "\n",
        "É possível fazer operações matemáticas **elemento a elemento** com os arrays, de forma bem simples:"
      ]
    },
    {
      "cell_type": "code",
      "execution_count": null,
      "metadata": {
        "id": "PzraNRSxkslW"
      },
      "outputs": [],
      "source": [
        "arr1 = np.random.randint(10, 50, 7)\n",
        "arr2 = np.linspace(1, 10, 7)"
      ]
    },
    {
      "cell_type": "code",
      "execution_count": null,
      "metadata": {
        "id": "qLE2qB3OkslW",
        "outputId": "5075fd65-fbc3-40a9-9eb4-af0ae3a2cc59"
      },
      "outputs": [
        {
          "name": "stdout",
          "output_type": "stream",
          "text": [
            "[28 49 13 43 26 19 46]\n",
            "[ 1.   2.5  4.   5.5  7.   8.5 10. ]\n"
          ]
        }
      ],
      "source": [
        "print(arr1)\n",
        "print(arr2)"
      ]
    },
    {
      "cell_type": "code",
      "execution_count": null,
      "metadata": {
        "id": "uQGKDM2hkslW"
      },
      "outputs": [],
      "source": [
        "lista1 = arr1.tolist()\n",
        "lista2 = arr2.tolist()"
      ]
    },
    {
      "cell_type": "code",
      "execution_count": null,
      "metadata": {
        "id": "iJOz_cGzkslX",
        "outputId": "fe07ca21-6bad-4dd5-ffbe-704241fde653"
      },
      "outputs": [
        {
          "data": {
            "text/plain": [
              "[28, 49, 13, 43, 26, 19, 46, 1.0, 2.5, 4.0, 5.5, 7.0, 8.5, 10.0]"
            ]
          },
          "execution_count": 71,
          "metadata": {},
          "output_type": "execute_result"
        }
      ],
      "source": [
        "lista1 + lista2"
      ]
    },
    {
      "cell_type": "code",
      "execution_count": null,
      "metadata": {
        "id": "fmd8M1DQkslY",
        "outputId": "76e7de08-4206-4d3f-f651-df35c1baacc1"
      },
      "outputs": [
        {
          "data": {
            "text/plain": [
              "array([29. , 51.5, 17. , 48.5, 33. , 27.5, 56. ])"
            ]
          },
          "execution_count": 72,
          "metadata": {},
          "output_type": "execute_result"
        }
      ],
      "source": [
        "arr1 + arr2"
      ]
    },
    {
      "cell_type": "code",
      "execution_count": null,
      "metadata": {
        "id": "71g0wC-PkslZ",
        "outputId": "625dbbd7-43e8-4e2c-d6da-76ff08927a45"
      },
      "outputs": [
        {
          "data": {
            "text/plain": [
              "array([28, 49, 13, 43, 26, 19, 46])"
            ]
          },
          "execution_count": 74,
          "metadata": {},
          "output_type": "execute_result"
        }
      ],
      "source": [
        "arr1"
      ]
    },
    {
      "cell_type": "code",
      "execution_count": null,
      "metadata": {
        "id": "8d8tKTjWkslZ",
        "outputId": "a305b699-546d-432a-ce36-e6037c063703"
      },
      "outputs": [
        {
          "data": {
            "text/plain": [
              "array([30, 51, 15, 45, 28, 21, 48])"
            ]
          },
          "execution_count": 75,
          "metadata": {},
          "output_type": "execute_result"
        }
      ],
      "source": [
        "arr1 + 2"
      ]
    },
    {
      "cell_type": "code",
      "execution_count": null,
      "metadata": {
        "id": "IZa8HloDkslZ",
        "outputId": "353bf440-291f-4103-9be2-b7b9f7c09d6f"
      },
      "outputs": [
        {
          "data": {
            "text/plain": [
              "array([56, 98, 26, 86, 52, 38, 92])"
            ]
          },
          "execution_count": 76,
          "metadata": {},
          "output_type": "execute_result"
        }
      ],
      "source": [
        "arr1 * 2"
      ]
    },
    {
      "cell_type": "code",
      "execution_count": null,
      "metadata": {
        "id": "Rh47TuOfksla",
        "outputId": "94e6f313-a8af-42a3-fb3e-b0434f3a5bf7"
      },
      "outputs": [
        {
          "data": {
            "text/plain": [
              "[28, 49, 13, 43, 26, 19, 46, 28, 49, 13, 43, 26, 19, 46]"
            ]
          },
          "execution_count": 79,
          "metadata": {},
          "output_type": "execute_result"
        }
      ],
      "source": [
        "lista1 * 2"
      ]
    },
    {
      "cell_type": "code",
      "execution_count": null,
      "metadata": {
        "id": "ET6kHRykksla",
        "outputId": "184da4b7-a624-4f44-a34a-c83ee8f97dd7"
      },
      "outputs": [
        {
          "ename": "TypeError",
          "evalue": "can only concatenate list (not \"int\") to list",
          "output_type": "error",
          "traceback": [
            "\u001b[1;31m---------------------------------------------------------------------------\u001b[0m",
            "\u001b[1;31mTypeError\u001b[0m                                 Traceback (most recent call last)",
            "\u001b[1;32m~\\AppData\\Local\\Temp\\ipykernel_18284\\878031544.py\u001b[0m in \u001b[0;36m<module>\u001b[1;34m\u001b[0m\n\u001b[1;32m----> 1\u001b[1;33m \u001b[0mlista1\u001b[0m \u001b[1;33m+\u001b[0m \u001b[1;36m2\u001b[0m\u001b[1;33m\u001b[0m\u001b[1;33m\u001b[0m\u001b[0m\n\u001b[0m",
            "\u001b[1;31mTypeError\u001b[0m: can only concatenate list (not \"int\") to list"
          ]
        }
      ],
      "source": [
        "lista1 + 2"
      ]
    },
    {
      "cell_type": "code",
      "execution_count": null,
      "metadata": {
        "id": "JMJE3mczksla",
        "outputId": "114c121c-16aa-4612-af13-30172d6fe6a8"
      },
      "outputs": [
        {
          "data": {
            "text/plain": [
              "[30, 51, 15, 45, 28, 21, 48]"
            ]
          },
          "execution_count": 80,
          "metadata": {},
          "output_type": "execute_result"
        }
      ],
      "source": [
        "[elemento + 2 for elemento in lista1]"
      ]
    },
    {
      "cell_type": "code",
      "execution_count": null,
      "metadata": {
        "id": "8bZwUBygksla",
        "outputId": "36e55d6d-d6e2-4333-f6c8-15b99f927695"
      },
      "outputs": [
        {
          "data": {
            "text/plain": [
              "array([30, 51, 15, 45, 28, 21, 48])"
            ]
          },
          "execution_count": 81,
          "metadata": {},
          "output_type": "execute_result"
        }
      ],
      "source": [
        "arr1 + 2"
      ]
    },
    {
      "cell_type": "markdown",
      "metadata": {
        "id": "x457sPN3kslb"
      },
      "source": [
        "Isso é muito útil para criarmos arrays com números repetidos, que não sejam 1 ou 0:"
      ]
    },
    {
      "cell_type": "code",
      "execution_count": null,
      "metadata": {
        "id": "jtS8lA07kslc",
        "outputId": "d900cebc-1f80-4289-a601-255dc40f503f"
      },
      "outputs": [
        {
          "data": {
            "text/plain": [
              "array([1., 1., 1., 1., 1., 1., 1., 1., 1., 1.])"
            ]
          },
          "execution_count": 82,
          "metadata": {},
          "output_type": "execute_result"
        }
      ],
      "source": [
        "np.ones(10)"
      ]
    },
    {
      "cell_type": "code",
      "execution_count": null,
      "metadata": {
        "id": "v6U1iucUkslc",
        "outputId": "9efb9c38-7012-454d-9a9f-6b15725f0a59"
      },
      "outputs": [
        {
          "data": {
            "text/plain": [
              "array([5., 5., 5., 5., 5., 5., 5., 5., 5., 5.])"
            ]
          },
          "execution_count": 85,
          "metadata": {},
          "output_type": "execute_result"
        }
      ],
      "source": [
        "np.ones(10)*5"
      ]
    },
    {
      "cell_type": "code",
      "execution_count": null,
      "metadata": {
        "id": "kUbyZJ2Eksld",
        "outputId": "0193177b-8ba9-4eca-c913-aad13804f36d"
      },
      "outputs": [
        {
          "data": {
            "text/plain": [
              "array([5., 5., 5., 5., 5., 5., 5., 5., 5., 5.])"
            ]
          },
          "execution_count": 87,
          "metadata": {},
          "output_type": "execute_result"
        }
      ],
      "source": [
        "np.zeros(10) + 5"
      ]
    },
    {
      "cell_type": "code",
      "execution_count": null,
      "metadata": {
        "id": "f97cfkv4ksld",
        "outputId": "ecac635b-001a-4ff3-bfce-568560cd4ea0"
      },
      "outputs": [
        {
          "data": {
            "text/plain": [
              "array([3.14, 3.14, 3.14, 3.14, 3.14, 3.14, 3.14, 3.14, 3.14, 3.14])"
            ]
          },
          "execution_count": 89,
          "metadata": {},
          "output_type": "execute_result"
        }
      ],
      "source": [
        "np.ones(10)*3.14"
      ]
    },
    {
      "cell_type": "markdown",
      "metadata": {
        "id": "XZM0PPD9ksld"
      },
      "source": [
        "#### Podemos também fazer operações elemento a elemento entre dois arrays"
      ]
    },
    {
      "cell_type": "code",
      "execution_count": null,
      "metadata": {
        "id": "8GX1bdcdksle",
        "outputId": "5eb63068-9fee-4a36-c98b-7807356780eb"
      },
      "outputs": [
        {
          "data": {
            "text/plain": [
              "array([33, 54, 18, 48, 31, 24, 51])"
            ]
          },
          "execution_count": 90,
          "metadata": {},
          "output_type": "execute_result"
        }
      ],
      "source": [
        "arr1 + 5"
      ]
    },
    {
      "cell_type": "code",
      "execution_count": null,
      "metadata": {
        "id": "eXPoHC0vksle",
        "outputId": "de4d6f82-1862-4cc7-c53e-6c83a8ceb3f9"
      },
      "outputs": [
        {
          "data": {
            "text/plain": [
              "array([29. , 51.5, 17. , 48.5, 33. , 27.5, 56. ])"
            ]
          },
          "execution_count": 91,
          "metadata": {},
          "output_type": "execute_result"
        }
      ],
      "source": [
        "arr1 + arr2"
      ]
    },
    {
      "cell_type": "code",
      "execution_count": null,
      "metadata": {
        "id": "K5vaQqqiksle",
        "outputId": "0aa69cca-513a-4fd7-bc6f-d9d8e525ea1b"
      },
      "outputs": [
        {
          "data": {
            "text/plain": [
              "array([ 28. , 122.5,  52. , 236.5, 182. , 161.5, 460. ])"
            ]
          },
          "execution_count": 92,
          "metadata": {},
          "output_type": "execute_result"
        }
      ],
      "source": [
        "arr1 * arr2"
      ]
    },
    {
      "cell_type": "code",
      "execution_count": null,
      "metadata": {
        "id": "SAFyIHvTkslf",
        "outputId": "76997068-1098-4ee6-acc8-8f1ef563c761"
      },
      "outputs": [
        {
          "data": {
            "text/plain": [
              "array([28.        , 19.6       ,  3.25      ,  7.81818182,  3.71428571,\n",
              "        2.23529412,  4.6       ])"
            ]
          },
          "execution_count": 93,
          "metadata": {},
          "output_type": "execute_result"
        }
      ],
      "source": [
        "arr1 / arr2"
      ]
    },
    {
      "cell_type": "code",
      "execution_count": null,
      "metadata": {
        "id": "OntX2hmqkslf",
        "outputId": "b1cac846-fa73-4ef3-a885-46a1f0824647"
      },
      "outputs": [
        {
          "data": {
            "text/plain": [
              "array([0.03571429, 0.05102041, 0.30769231, 0.12790698, 0.26923077,\n",
              "       0.44736842, 0.2173913 ])"
            ]
          },
          "execution_count": 94,
          "metadata": {},
          "output_type": "execute_result"
        }
      ],
      "source": [
        "arr2 / arr1"
      ]
    },
    {
      "cell_type": "code",
      "execution_count": null,
      "metadata": {
        "id": "ColJh03akslf",
        "outputId": "887bfb06-fa6c-4bf3-ba07-b9c36695126d"
      },
      "outputs": [
        {
          "data": {
            "text/plain": [
              "array([0, 1, 2, 3, 4, 5, 6])"
            ]
          },
          "execution_count": 96,
          "metadata": {},
          "output_type": "execute_result"
        }
      ],
      "source": [
        "arr3 = np.arange(7)\n",
        "\n",
        "arr3"
      ]
    },
    {
      "cell_type": "code",
      "execution_count": null,
      "metadata": {
        "id": "1mJyH80Ekslg",
        "outputId": "ffc35b4e-5a7a-4bad-d1f6-406252530e21"
      },
      "outputs": [
        {
          "name": "stderr",
          "output_type": "stream",
          "text": [
            "C:\\Users\\lcode\\AppData\\Local\\Temp\\ipykernel_18284\\1841752248.py:1: RuntimeWarning: divide by zero encountered in true_divide\n",
            "  arr1/arr3\n"
          ]
        },
        {
          "data": {
            "text/plain": [
              "array([        inf, 49.        ,  6.5       , 14.33333333,  6.5       ,\n",
              "        3.8       ,  7.66666667])"
            ]
          },
          "execution_count": 98,
          "metadata": {},
          "output_type": "execute_result"
        }
      ],
      "source": [
        "arr1/arr3"
      ]
    },
    {
      "cell_type": "markdown",
      "metadata": {
        "id": "GocRPk92kslg"
      },
      "source": [
        "#### Métodos\n",
        "\n",
        "Vamos agora introduzir algums nétodos muito úteis que são aplicados a arrays -- e muitos são herdados pelo Pandas!"
      ]
    },
    {
      "cell_type": "code",
      "execution_count": null,
      "metadata": {
        "id": "7-7rxVt2kslg",
        "outputId": "312f31b8-f65e-48b3-8c10-fb2085f0f41a"
      },
      "outputs": [
        {
          "data": {
            "text/plain": [
              "array([102, 435, 348, 270, 106,  71, 188,  20, 102, 121, 466, 214, 330,\n",
              "       458,  87, 372,  99, 359, 151, 130, 149, 308, 257, 343, 491, 413,\n",
              "       293, 385, 191, 443, 276, 160, 459, 313,  21, 252, 235, 344,  48,\n",
              "       474,  58, 169, 475, 187, 463, 270, 189, 445, 174, 445])"
            ]
          },
          "execution_count": 100,
          "metadata": {},
          "output_type": "execute_result"
        }
      ],
      "source": [
        "np.random.seed(42)\n",
        "\n",
        "arr = np.random.randint(0, 500, 50)\n",
        "\n",
        "arr"
      ]
    },
    {
      "cell_type": "code",
      "execution_count": null,
      "metadata": {
        "ExecuteTime": {
          "end_time": "2023-04-28T15:11:16.456639Z",
          "start_time": "2023-04-28T15:11:16.422646Z"
        },
        "id": "aLnExbyykslg",
        "outputId": "16d3c190-416c-4bd9-df62-9ef7c43cb1d1"
      },
      "outputs": [
        {
          "data": {
            "text/plain": [
              "491"
            ]
          },
          "execution_count": 101,
          "metadata": {},
          "output_type": "execute_result"
        }
      ],
      "source": [
        "# maior valor\n",
        "\n",
        "arr.max()"
      ]
    },
    {
      "cell_type": "code",
      "execution_count": null,
      "metadata": {
        "ExecuteTime": {
          "end_time": "2023-04-28T15:11:16.857270Z",
          "start_time": "2023-04-28T15:11:16.847033Z"
        },
        "id": "o_wAPlXokslh",
        "outputId": "2ddced44-c145-4d6a-f3d7-342da54ec580"
      },
      "outputs": [
        {
          "data": {
            "text/plain": [
              "24"
            ]
          },
          "execution_count": 102,
          "metadata": {},
          "output_type": "execute_result"
        }
      ],
      "source": [
        "# indice do elemento máximo\n",
        "\n",
        "arr.argmax()"
      ]
    },
    {
      "cell_type": "code",
      "execution_count": null,
      "metadata": {
        "ExecuteTime": {
          "end_time": "2023-04-28T15:11:17.474514Z",
          "start_time": "2023-04-28T15:11:17.463519Z"
        },
        "id": "LARXic_Bkslh",
        "outputId": "e47d6fb4-985a-4fd1-ed49-35faa0e11491"
      },
      "outputs": [
        {
          "data": {
            "text/plain": [
              "20"
            ]
          },
          "execution_count": 105,
          "metadata": {},
          "output_type": "execute_result"
        }
      ],
      "source": [
        "# menor valor\n",
        "\n",
        "arr.min()"
      ]
    },
    {
      "cell_type": "code",
      "execution_count": null,
      "metadata": {
        "ExecuteTime": {
          "end_time": "2023-04-28T15:11:18.075254Z",
          "start_time": "2023-04-28T15:11:18.028675Z"
        },
        "id": "vH32oN7Hkslh",
        "outputId": "c43334e2-0488-4095-d2c8-9b72a1de9b06"
      },
      "outputs": [
        {
          "data": {
            "text/plain": [
              "7"
            ]
          },
          "execution_count": 106,
          "metadata": {},
          "output_type": "execute_result"
        }
      ],
      "source": [
        "# indice do elemento minimo\n",
        "\n",
        "arr.argmin()"
      ]
    },
    {
      "cell_type": "code",
      "execution_count": null,
      "metadata": {
        "id": "g--qeMSukslh",
        "outputId": "0582f341-7f54-4cdb-92bc-18dc621c983c"
      },
      "outputs": [
        {
          "data": {
            "text/plain": [
              "array([102, 435, 348, 270, 106,  71, 188,  20, 102, 121, 466, 214, 330,\n",
              "       458,  87, 372,  99, 359, 151, 130, 149, 308, 257, 343, 491, 413,\n",
              "       293, 385, 191, 443, 276, 160, 459, 313,  21, 252, 235, 344,  48,\n",
              "       474,  58, 169, 475, 187, 463, 270, 189, 445, 174, 445])"
            ]
          },
          "execution_count": 108,
          "metadata": {},
          "output_type": "execute_result"
        }
      ],
      "source": [
        "arr"
      ]
    },
    {
      "cell_type": "code",
      "execution_count": null,
      "metadata": {
        "ExecuteTime": {
          "end_time": "2023-04-28T15:11:25.383885Z",
          "start_time": "2023-04-28T15:11:25.375888Z"
        },
        "id": "IykG1pBPkslh",
        "outputId": "1a2c0fcc-44a0-4805-99a3-21c4ea3af122"
      },
      "outputs": [
        {
          "data": {
            "text/plain": [
              "13159"
            ]
          },
          "execution_count": 107,
          "metadata": {},
          "output_type": "execute_result"
        }
      ],
      "source": [
        "# soma de todos os items\n",
        "\n",
        "arr.sum()"
      ]
    },
    {
      "cell_type": "code",
      "execution_count": null,
      "metadata": {
        "ExecuteTime": {
          "end_time": "2023-04-28T15:11:25.629002Z",
          "start_time": "2023-04-28T15:11:25.613240Z"
        },
        "id": "AUcEkBpXksli",
        "outputId": "f1bf7649-e2a5-419f-8558-4bb4baa53fa1"
      },
      "outputs": [
        {
          "data": {
            "text/plain": [
              "263.18"
            ]
          },
          "execution_count": 109,
          "metadata": {},
          "output_type": "execute_result"
        }
      ],
      "source": [
        "# media dos elementos\n",
        "\n",
        "arr.mean()"
      ]
    },
    {
      "cell_type": "code",
      "execution_count": null,
      "metadata": {
        "id": "mIFLTT9Qksli",
        "outputId": "56f01ac8-5949-41f9-e97b-c2795447b95b"
      },
      "outputs": [
        {
          "data": {
            "text/plain": [
              "263.18"
            ]
          },
          "execution_count": 111,
          "metadata": {},
          "output_type": "execute_result"
        }
      ],
      "source": [
        "arr.sum()/len(arr)"
      ]
    },
    {
      "cell_type": "code",
      "execution_count": null,
      "metadata": {
        "id": "3pABvWEKksli",
        "outputId": "55f01344-9359-4993-e7db-950740c19a86"
      },
      "outputs": [
        {
          "data": {
            "text/plain": [
              "50"
            ]
          },
          "execution_count": 113,
          "metadata": {},
          "output_type": "execute_result"
        }
      ],
      "source": [
        "arr.shape[0]"
      ]
    },
    {
      "cell_type": "code",
      "execution_count": null,
      "metadata": {
        "ExecuteTime": {
          "end_time": "2023-04-28T15:11:26.002801Z",
          "start_time": "2023-04-28T15:11:25.986998Z"
        },
        "id": "H7vD3V8Lksli",
        "outputId": "67125248-06d0-4b78-d467-ebce68e22533"
      },
      "outputs": [
        {
          "data": {
            "text/plain": [
              "142.08654968011575"
            ]
          },
          "execution_count": 114,
          "metadata": {},
          "output_type": "execute_result"
        }
      ],
      "source": [
        "# desvio padrão\n",
        "\n",
        "arr.std()"
      ]
    },
    {
      "cell_type": "code",
      "execution_count": null,
      "metadata": {
        "ExecuteTime": {
          "end_time": "2023-04-28T15:11:33.587814Z",
          "start_time": "2023-04-28T15:11:33.565061Z"
        },
        "id": "ohM41F94kslk",
        "outputId": "f7e50238-300c-48d0-a830-b99e98f8d87a"
      },
      "outputs": [
        {
          "data": {
            "text/plain": [
              "array([102, 435, 348, 270, 106,  71, 188,  20, 102, 121, 466, 214, 330,\n",
              "       458,  87, 372,  99, 359, 151, 130, 149, 308, 257, 343, 491, 413,\n",
              "       293, 385, 191, 443, 276, 160, 459, 313,  21, 252, 235, 344,  48,\n",
              "       474,  58, 169, 475, 187, 463, 270, 189, 445, 174, 445])"
            ]
          },
          "execution_count": 115,
          "metadata": {},
          "output_type": "execute_result"
        }
      ],
      "source": [
        "# Trocando o tipo dos dados nas lista com o .astype()\n",
        "\n",
        "arr"
      ]
    },
    {
      "cell_type": "code",
      "execution_count": null,
      "metadata": {
        "id": "fyX2W3Yfkslk",
        "outputId": "626e812c-f24d-4941-d320-79f4df7d06f3"
      },
      "outputs": [
        {
          "data": {
            "text/plain": [
              "dtype('int32')"
            ]
          },
          "execution_count": 116,
          "metadata": {},
          "output_type": "execute_result"
        }
      ],
      "source": [
        "arr.dtype"
      ]
    },
    {
      "cell_type": "code",
      "execution_count": null,
      "metadata": {
        "id": "NfK1aViLksll",
        "outputId": "2779fcfe-2f97-4a65-8db7-a2d4bde7a6a1"
      },
      "outputs": [
        {
          "data": {
            "text/plain": [
              "array([102., 435., 348., 270., 106.,  71., 188.,  20., 102., 121., 466.,\n",
              "       214., 330., 458.,  87., 372.,  99., 359., 151., 130., 149., 308.,\n",
              "       257., 343., 491., 413., 293., 385., 191., 443., 276., 160., 459.,\n",
              "       313.,  21., 252., 235., 344.,  48., 474.,  58., 169., 475., 187.,\n",
              "       463., 270., 189., 445., 174., 445.])"
            ]
          },
          "execution_count": 117,
          "metadata": {},
          "output_type": "execute_result"
        }
      ],
      "source": [
        "arr.astype(float)"
      ]
    },
    {
      "cell_type": "markdown",
      "metadata": {
        "id": "BcQJUEmLksll"
      },
      "source": [
        "__________\n",
        "___________"
      ]
    },
    {
      "cell_type": "markdown",
      "metadata": {
        "id": "lbuerxxwksll"
      },
      "source": [
        "#### Matrizes\n",
        "\n",
        "Até agora, todos os arrays que criamos foram **unidimensionais**, isto é, apareciam como uma lista com uma única linha. Esse tipo de array é conhecido como **vetor**, na matemática. Um exemplo:"
      ]
    },
    {
      "cell_type": "code",
      "execution_count": null,
      "metadata": {
        "id": "4Izx-HZhksll",
        "outputId": "7935a47c-0a47-45a6-c98c-8a3f4e5dea94"
      },
      "outputs": [
        {
          "data": {
            "text/plain": [
              "5"
            ]
          },
          "execution_count": 121,
          "metadata": {},
          "output_type": "execute_result"
        }
      ],
      "source": [
        "matriz = [[1, 2, 3],\n",
        "          [4, 5, 6]]\n",
        "\n",
        "matriz[1][1]"
      ]
    },
    {
      "cell_type": "code",
      "execution_count": null,
      "metadata": {
        "id": "c8SMAjA_ksll",
        "outputId": "992b7442-94e2-4257-cc4b-56d59c60f5a0"
      },
      "outputs": [
        {
          "name": "stdout",
          "output_type": "stream",
          "text": [
            "[[1, 2, 3], [4, 5, 6]]\n"
          ]
        }
      ],
      "source": [
        "print(matriz)"
      ]
    },
    {
      "cell_type": "code",
      "execution_count": null,
      "metadata": {
        "id": "WcJWmLAVksll"
      },
      "outputs": [],
      "source": [
        "matriz_arr = np.array(matriz)"
      ]
    },
    {
      "cell_type": "code",
      "execution_count": null,
      "metadata": {
        "id": "gavrsEQmksln",
        "outputId": "79e8be73-d22a-4e9f-d8ad-c2276897e1c9"
      },
      "outputs": [
        {
          "name": "stdout",
          "output_type": "stream",
          "text": [
            "[[1 2 3]\n",
            " [4 5 6]]\n"
          ]
        }
      ],
      "source": [
        "print(matriz_arr)"
      ]
    },
    {
      "cell_type": "code",
      "execution_count": null,
      "metadata": {
        "ExecuteTime": {
          "end_time": "2023-04-28T15:11:50.437247Z",
          "start_time": "2023-04-28T15:11:50.429233Z"
        },
        "id": "pZWyl8uUksln",
        "outputId": "a8cf259c-e731-4f74-9007-a41d01d55d0b"
      },
      "outputs": [
        {
          "data": {
            "text/plain": [
              "array([0, 1, 2, 3, 4, 5, 6, 7, 8, 9])"
            ]
          },
          "execution_count": 127,
          "metadata": {},
          "output_type": "execute_result"
        }
      ],
      "source": [
        "# array unidimensional (com o arrange)\n",
        "\n",
        "arr = np.arange(10)\n",
        "\n",
        "arr"
      ]
    },
    {
      "cell_type": "code",
      "execution_count": null,
      "metadata": {
        "ExecuteTime": {
          "end_time": "2023-04-28T15:11:54.018476Z",
          "start_time": "2023-04-28T15:11:54.003485Z"
        },
        "id": "tt43jQgLksln",
        "outputId": "39f79615-677f-440f-a597-59534583bd7c"
      },
      "outputs": [
        {
          "data": {
            "text/plain": [
              "(10,)"
            ]
          },
          "execution_count": 128,
          "metadata": {},
          "output_type": "execute_result"
        }
      ],
      "source": [
        "# atributo .shape, que mostra qual é a dimensão do array\n",
        "# notação: (numero_de_linhas, numero_de_colunas)\n",
        "\n",
        "arr.shape"
      ]
    },
    {
      "cell_type": "markdown",
      "metadata": {
        "id": "Dx7FHv7bkslo"
      },
      "source": [
        "No entanto, há situações em que é interessante termos uma **matriz**, que nada mais é que um array **bidimensional**, isto é, com **linhas e colunas**.\n",
        "\n",
        "Vamos começar criando matrizes a partire do `reshape` de vetores:"
      ]
    },
    {
      "cell_type": "code",
      "execution_count": null,
      "metadata": {
        "ExecuteTime": {
          "end_time": "2023-04-28T15:12:01.880808Z",
          "start_time": "2023-04-28T15:12:01.867810Z"
        },
        "id": "rdctD9dDkslo",
        "outputId": "6b007d6b-9a06-411b-e4ca-c04fb58cc37d"
      },
      "outputs": [
        {
          "data": {
            "text/plain": [
              "array([[0, 1],\n",
              "       [2, 3],\n",
              "       [4, 5],\n",
              "       [6, 7],\n",
              "       [8, 9]])"
            ]
          },
          "execution_count": 129,
          "metadata": {},
          "output_type": "execute_result"
        }
      ],
      "source": [
        "# Criando uma matriz a partir de um vetor (array 1D) com o .reshape()\n",
        "# IMPORTANTE: as novas dimensões devem bater com a dimensão original!\n",
        "\n",
        "arr.reshape((5, 2))"
      ]
    },
    {
      "cell_type": "code",
      "execution_count": null,
      "metadata": {
        "id": "YR5_2T1rkslp",
        "outputId": "3b83e53a-5ffa-4b40-967b-011ae2eebd6b"
      },
      "outputs": [
        {
          "data": {
            "text/plain": [
              "array([[0, 1, 2, 3, 4],\n",
              "       [5, 6, 7, 8, 9]])"
            ]
          },
          "execution_count": 130,
          "metadata": {},
          "output_type": "execute_result"
        }
      ],
      "source": [
        "arr.reshape((2, 5))"
      ]
    },
    {
      "cell_type": "code",
      "execution_count": null,
      "metadata": {
        "id": "XUXicsGGkslp",
        "outputId": "ab761d64-c510-4374-921d-8f6cec083236"
      },
      "outputs": [
        {
          "ename": "ValueError",
          "evalue": "cannot reshape array of size 10 into shape (3,3)",
          "output_type": "error",
          "traceback": [
            "\u001b[1;31m---------------------------------------------------------------------------\u001b[0m",
            "\u001b[1;31mValueError\u001b[0m                                Traceback (most recent call last)",
            "\u001b[1;32m~\\AppData\\Local\\Temp\\ipykernel_18284\\1113554874.py\u001b[0m in \u001b[0;36m<module>\u001b[1;34m\u001b[0m\n\u001b[1;32m----> 1\u001b[1;33m \u001b[0marr\u001b[0m\u001b[1;33m.\u001b[0m\u001b[0mreshape\u001b[0m\u001b[1;33m(\u001b[0m\u001b[1;33m(\u001b[0m\u001b[1;36m3\u001b[0m\u001b[1;33m,\u001b[0m \u001b[1;36m3\u001b[0m\u001b[1;33m)\u001b[0m\u001b[1;33m)\u001b[0m\u001b[1;33m\u001b[0m\u001b[1;33m\u001b[0m\u001b[0m\n\u001b[0m",
            "\u001b[1;31mValueError\u001b[0m: cannot reshape array of size 10 into shape (3,3)"
          ]
        }
      ],
      "source": [
        "arr.reshape((3, 3))"
      ]
    },
    {
      "cell_type": "code",
      "execution_count": null,
      "metadata": {
        "id": "XrktdXdqkslp",
        "outputId": "e6f68c0e-f0c2-4730-c3fb-50c8f3599fe2"
      },
      "outputs": [
        {
          "data": {
            "text/plain": [
              "array([59, 13,  8, 89, 52,  1, 83, 91, 59, 70, 43,  7])"
            ]
          },
          "execution_count": 133,
          "metadata": {},
          "output_type": "execute_result"
        }
      ],
      "source": [
        "arr2 = np.random.randint(0, 100, 12)\n",
        "arr2"
      ]
    },
    {
      "cell_type": "code",
      "execution_count": null,
      "metadata": {
        "id": "mSzTNYTdkslr",
        "outputId": "b360566e-eff0-459f-afd6-4dcd5f23cf00"
      },
      "outputs": [
        {
          "data": {
            "text/plain": [
              "array([[59, 13],\n",
              "       [ 8, 89],\n",
              "       [52,  1],\n",
              "       [83, 91],\n",
              "       [59, 70],\n",
              "       [43,  7]])"
            ]
          },
          "execution_count": 134,
          "metadata": {},
          "output_type": "execute_result"
        }
      ],
      "source": [
        "arr2.reshape((6, 2))"
      ]
    },
    {
      "cell_type": "code",
      "execution_count": null,
      "metadata": {
        "id": "DDeauUmxkslr",
        "outputId": "d27f99de-c53c-4cb0-dcd5-f9933550fca6"
      },
      "outputs": [
        {
          "data": {
            "text/plain": [
              "array([[59, 13,  8, 89],\n",
              "       [52,  1, 83, 91],\n",
              "       [59, 70, 43,  7]])"
            ]
          },
          "execution_count": 135,
          "metadata": {},
          "output_type": "execute_result"
        }
      ],
      "source": [
        "arr2.reshape((3, 4))"
      ]
    },
    {
      "cell_type": "code",
      "execution_count": null,
      "metadata": {
        "id": "YvgzJaOskslr"
      },
      "outputs": [],
      "source": [
        "matriz2 = arr2.reshape((4, 3))"
      ]
    },
    {
      "cell_type": "code",
      "execution_count": null,
      "metadata": {
        "id": "uJlux6JKksls",
        "outputId": "6b0d0ac4-8c0e-4f96-ba78-15a2fc85e300"
      },
      "outputs": [
        {
          "data": {
            "text/plain": [
              "array([[59, 13,  8, 89, 52,  1],\n",
              "       [83, 91, 59, 70, 43,  7]])"
            ]
          },
          "execution_count": 138,
          "metadata": {},
          "output_type": "execute_result"
        }
      ],
      "source": [
        "arr2.reshape((2, 6))"
      ]
    },
    {
      "cell_type": "markdown",
      "metadata": {
        "id": "zCzYuvqCksls"
      },
      "source": [
        "Também é possível indexar matrizes!\n",
        "\n",
        "Há duas formas de fazer isso:"
      ]
    },
    {
      "cell_type": "code",
      "execution_count": null,
      "metadata": {
        "id": "L0p6MRcMksls",
        "outputId": "b59bde80-6f1b-4343-92b2-a7af5b13a186"
      },
      "outputs": [
        {
          "data": {
            "text/plain": [
              "array([[59, 13,  8],\n",
              "       [89, 52,  1],\n",
              "       [83, 91, 59],\n",
              "       [70, 43,  7]])"
            ]
          },
          "execution_count": 141,
          "metadata": {},
          "output_type": "execute_result"
        }
      ],
      "source": [
        "matriz2"
      ]
    },
    {
      "cell_type": "code",
      "execution_count": null,
      "metadata": {
        "ExecuteTime": {
          "end_time": "2023-04-28T15:14:01.606897Z",
          "start_time": "2023-04-28T15:14:01.596881Z"
        },
        "id": "L7y4R8HSksls",
        "outputId": "07b42167-932a-44b4-f103-347823eea9ad"
      },
      "outputs": [
        {
          "data": {
            "text/plain": [
              "43"
            ]
          },
          "execution_count": 143,
          "metadata": {},
          "output_type": "execute_result"
        }
      ],
      "source": [
        "# elemento [3][1] (quarta linha, segunda coluna)\n",
        "\n",
        "matriz2[3][1]"
      ]
    },
    {
      "cell_type": "code",
      "execution_count": null,
      "metadata": {
        "ExecuteTime": {
          "end_time": "2023-04-28T15:14:02.528474Z",
          "start_time": "2023-04-28T15:14:02.518482Z"
        },
        "id": "_wA0Shu-kslt",
        "outputId": "36946cc7-3bb6-4288-80d2-48847369cb09"
      },
      "outputs": [
        {
          "data": {
            "text/plain": [
              "43"
            ]
          },
          "execution_count": 144,
          "metadata": {},
          "output_type": "execute_result"
        }
      ],
      "source": [
        "# elemento [3, 1] (quarta linha, segunda coluna)\n",
        "\n",
        "matriz2[3, 1]"
      ]
    },
    {
      "cell_type": "markdown",
      "metadata": {
        "id": "lDtmjtWKkslt"
      },
      "source": [
        "Também é possível selecionar fatias da matriz:"
      ]
    },
    {
      "cell_type": "code",
      "execution_count": null,
      "metadata": {
        "id": "MaWEErfZkslt",
        "outputId": "e7765c49-1e3f-4820-b7be-0f03fafc27c9"
      },
      "outputs": [
        {
          "data": {
            "text/plain": [
              "array([[59, 13,  8],\n",
              "       [89, 52,  1],\n",
              "       [83, 91, 59],\n",
              "       [70, 43,  7]])"
            ]
          },
          "execution_count": 145,
          "metadata": {},
          "output_type": "execute_result"
        }
      ],
      "source": [
        "matriz2"
      ]
    },
    {
      "cell_type": "code",
      "execution_count": null,
      "metadata": {
        "id": "36PbnOC2kslu",
        "outputId": "ebfabbd0-90cb-4ed4-a28b-6a8c7a1d290b"
      },
      "outputs": [
        {
          "data": {
            "text/plain": [
              "array([[59, 13],\n",
              "       [89, 52]])"
            ]
          },
          "execution_count": 147,
          "metadata": {},
          "output_type": "execute_result"
        }
      ],
      "source": [
        "matriz2[:2, :2]"
      ]
    },
    {
      "cell_type": "code",
      "execution_count": null,
      "metadata": {
        "id": "JKqm_seUkslu",
        "outputId": "056f59be-dad0-4e15-d25b-00c3fb8d3e98"
      },
      "outputs": [
        {
          "data": {
            "text/plain": [
              "array([[52,  1],\n",
              "       [91, 59]])"
            ]
          },
          "execution_count": 149,
          "metadata": {},
          "output_type": "execute_result"
        }
      ],
      "source": [
        "matriz2[1:3, 1:]"
      ]
    },
    {
      "cell_type": "markdown",
      "metadata": {
        "id": "WuqxQptIkslu"
      },
      "source": [
        "Uma matriz bem importante (por ser o elemento neutro da multiplicação de matrizes) é a matriz identidade:"
      ]
    },
    {
      "cell_type": "code",
      "execution_count": null,
      "metadata": {
        "ExecuteTime": {
          "end_time": "2023-04-28T15:14:15.926501Z",
          "start_time": "2023-04-28T15:14:15.904772Z"
        },
        "id": "ffqwn5lvkslv",
        "outputId": "c1bad648-dcc0-4158-a020-49490e338d8f"
      },
      "outputs": [
        {
          "data": {
            "text/plain": [
              "array([[1., 0., 0., 0.],\n",
              "       [0., 1., 0., 0.],\n",
              "       [0., 0., 1., 0.],\n",
              "       [0., 0., 0., 1.]])"
            ]
          },
          "execution_count": 150,
          "metadata": {},
          "output_type": "execute_result"
        }
      ],
      "source": [
        "# Criando matriz identidade, np.eye()\n",
        "\n",
        "np.eye(4)"
      ]
    },
    {
      "cell_type": "code",
      "execution_count": null,
      "metadata": {
        "id": "tXB2xIrTkslv",
        "outputId": "830e6736-fe26-407a-878a-fe352665629b"
      },
      "outputs": [
        {
          "data": {
            "text/plain": [
              "array([[1., 0., 0., 0., 0., 0., 0., 0., 0., 0.],\n",
              "       [0., 1., 0., 0., 0., 0., 0., 0., 0., 0.],\n",
              "       [0., 0., 1., 0., 0., 0., 0., 0., 0., 0.],\n",
              "       [0., 0., 0., 1., 0., 0., 0., 0., 0., 0.],\n",
              "       [0., 0., 0., 0., 1., 0., 0., 0., 0., 0.],\n",
              "       [0., 0., 0., 0., 0., 1., 0., 0., 0., 0.],\n",
              "       [0., 0., 0., 0., 0., 0., 1., 0., 0., 0.],\n",
              "       [0., 0., 0., 0., 0., 0., 0., 1., 0., 0.],\n",
              "       [0., 0., 0., 0., 0., 0., 0., 0., 1., 0.],\n",
              "       [0., 0., 0., 0., 0., 0., 0., 0., 0., 1.]])"
            ]
          },
          "execution_count": 151,
          "metadata": {},
          "output_type": "execute_result"
        }
      ],
      "source": [
        "np.eye(10)"
      ]
    },
    {
      "cell_type": "markdown",
      "metadata": {
        "id": "jmbMfUBgkslv"
      },
      "source": [
        "Também é possível inicializar matrizes diretamente, sempre que for possível especificar o argumento `shape` ou `size`:"
      ]
    },
    {
      "cell_type": "code",
      "execution_count": null,
      "metadata": {
        "id": "m-ZJ7s4Wkslv",
        "outputId": "5eb68dde-e1ef-4ee3-ce32-e7ab27614a0a"
      },
      "outputs": [
        {
          "data": {
            "text/plain": [
              "array([[0, 1],\n",
              "       [2, 3],\n",
              "       [4, 5],\n",
              "       [6, 7],\n",
              "       [8, 9]])"
            ]
          },
          "execution_count": 155,
          "metadata": {},
          "output_type": "execute_result"
        }
      ],
      "source": [
        "np.arange(10).reshape((5, 2))"
      ]
    },
    {
      "cell_type": "code",
      "execution_count": null,
      "metadata": {
        "id": "zrR99uCMkslv",
        "outputId": "7079ce65-a3c6-459c-8317-9dc8a2e6ac52"
      },
      "outputs": [
        {
          "data": {
            "text/plain": [
              "array([[103, 153, 192],\n",
              "       [162, 117, 189],\n",
              "       [143, 133, 173]])"
            ]
          },
          "execution_count": 157,
          "metadata": {},
          "output_type": "execute_result"
        }
      ],
      "source": [
        "np.random.randint(100, 200, (3, 3))"
      ]
    },
    {
      "cell_type": "code",
      "execution_count": null,
      "metadata": {
        "id": "D1sn3qWnkslv",
        "outputId": "537961be-611a-45a0-a0e4-21fb676871d6"
      },
      "outputs": [
        {
          "data": {
            "text/plain": [
              "array([[7., 7., 7.],\n",
              "       [7., 7., 7.],\n",
              "       [7., 7., 7.]])"
            ]
          },
          "execution_count": 160,
          "metadata": {},
          "output_type": "execute_result"
        }
      ],
      "source": [
        "np.ones((3, 3))*7"
      ]
    },
    {
      "cell_type": "markdown",
      "metadata": {
        "id": "68xgIvMkkslv"
      },
      "source": [
        "#### Filtros (máscaras)\n",
        "\n",
        "Uma das funções mais importantes do numpy é a possibilidade de construção de **filtros**, que também são chamados de **máscaras**\n",
        "\n",
        "O objetivo dos filtros é **selecionar apenas os elementos de um array que satisfaçam determinada condição**"
      ]
    },
    {
      "cell_type": "code",
      "execution_count": null,
      "metadata": {
        "id": "2x0sszb6kslw"
      },
      "outputs": [],
      "source": [
        "arr = np.random.randint(0, 100, 20)"
      ]
    },
    {
      "cell_type": "code",
      "execution_count": null,
      "metadata": {
        "id": "4bVcUWfUkslw",
        "outputId": "867eff54-e0ff-4ef6-b3d2-2e87bca8461b"
      },
      "outputs": [
        {
          "data": {
            "text/plain": [
              "array([61, 99, 13, 94, 47, 14, 71, 77, 86, 61, 39, 84, 79, 81, 52, 23, 25,\n",
              "       88, 59, 40])"
            ]
          },
          "execution_count": 166,
          "metadata": {},
          "output_type": "execute_result"
        }
      ],
      "source": [
        "arr"
      ]
    },
    {
      "cell_type": "markdown",
      "metadata": {
        "ExecuteTime": {
          "end_time": "2020-01-04T21:02:00.445793Z",
          "start_time": "2020-01-04T21:02:00.441301Z"
        },
        "id": "j6kkn9p-kslw"
      },
      "source": [
        "Ao usar um **operador lógico** juntamente com um array, o numpy **aplica a operação lógica a cada um dos elementos do array**, retornando um **array de bools** com\n",
        "o resultado de cada uma das operações lógicas:"
      ]
    },
    {
      "cell_type": "code",
      "execution_count": null,
      "metadata": {
        "id": "hXg-gtiAkslw",
        "outputId": "ab28ab7e-1425-4fe4-bf10-69740708961d"
      },
      "outputs": [
        {
          "data": {
            "text/plain": [
              "array([ True,  True, False,  True, False, False,  True,  True,  True,\n",
              "        True, False,  True,  True,  True,  True, False, False,  True,\n",
              "        True, False])"
            ]
          },
          "execution_count": 169,
          "metadata": {},
          "output_type": "execute_result"
        }
      ],
      "source": [
        "arr > 50"
      ]
    },
    {
      "cell_type": "markdown",
      "metadata": {
        "id": "sUrDTBuSkslw"
      },
      "source": [
        "Uma vez criado o filtro, é possível **utilizá-lo como indexador do array**, para selecionar **apenas os elementos com indice correspondente a True no filtro**"
      ]
    },
    {
      "cell_type": "code",
      "execution_count": null,
      "metadata": {
        "id": "TqLIOHjEkslw",
        "outputId": "a0e21efe-a34b-455d-a84e-2f8d78f9af02"
      },
      "outputs": [
        {
          "data": {
            "text/plain": [
              "array([61, 99, 94, 71, 77, 86, 61, 84, 79, 81, 52, 88, 59])"
            ]
          },
          "execution_count": 167,
          "metadata": {},
          "output_type": "execute_result"
        }
      ],
      "source": [
        "arr[arr>50]"
      ]
    },
    {
      "cell_type": "markdown",
      "metadata": {
        "id": "gNblMmvikslx"
      },
      "source": [
        "Mais um exemplo..."
      ]
    },
    {
      "cell_type": "code",
      "execution_count": null,
      "metadata": {
        "id": "SLyOYEymkslx",
        "outputId": "3dfd7d24-c2c2-4fe2-8c59-1aa45357d6fd"
      },
      "outputs": [
        {
          "data": {
            "text/plain": [
              "array([13, 47, 14, 39, 23, 25, 40])"
            ]
          },
          "execution_count": 170,
          "metadata": {},
          "output_type": "execute_result"
        }
      ],
      "source": [
        "arr[arr<=50]"
      ]
    },
    {
      "cell_type": "markdown",
      "metadata": {
        "ExecuteTime": {
          "end_time": "2020-01-04T21:02:07.527623Z",
          "start_time": "2020-01-04T21:02:07.521633Z"
        },
        "id": "WqtiWkZPkslx"
      },
      "source": [
        "Também é possível aplicar **filtros compostos**!\n",
        "\n",
        "Pra fazer isso, nós fazems uma **composição lógica** entre os filtros (análogo ao \"and\" e ao \"or\")\n",
        "\n",
        "No caso de arrays, usamos:\n",
        "\n",
        "- \"&\" para \"and\"\n",
        "- \"|\" para \"or\"\n",
        "- \"~\" para \"not\""
      ]
    },
    {
      "cell_type": "code",
      "execution_count": null,
      "metadata": {
        "id": "97d-bIZAkslx",
        "outputId": "992c3c12-7d1b-4ad5-eed2-9fcb5690f91d"
      },
      "outputs": [
        {
          "data": {
            "text/plain": [
              "array([28, 14, 44, 64, 88, 70,  8, 87,  0,  7, 87, 62, 10, 80,  7, 34, 34,\n",
              "       32,  4, 40, 27,  6, 72, 71, 11, 33, 32, 47, 22, 61, 87, 36, 98, 43,\n",
              "       85, 90, 34, 64, 98, 46, 77,  2,  0,  4, 89, 13, 26,  8, 78, 14])"
            ]
          },
          "execution_count": 171,
          "metadata": {},
          "output_type": "execute_result"
        }
      ],
      "source": [
        "arr = np.random.randint(0, 100, 50)\n",
        "\n",
        "arr"
      ]
    },
    {
      "cell_type": "code",
      "execution_count": null,
      "metadata": {
        "ExecuteTime": {
          "end_time": "2023-04-28T15:15:52.738455Z",
          "start_time": "2023-04-28T15:15:52.716487Z"
        },
        "id": "fFLhV8Vrksly",
        "outputId": "d931f4f6-59f5-4de2-925c-4d95f464a8e4"
      },
      "outputs": [
        {
          "data": {
            "text/plain": [
              "array([ True,  True,  True,  True,  True,  True,  True, False,  True,\n",
              "       False, False,  True,  True,  True, False,  True,  True,  True,\n",
              "        True,  True, False,  True,  True, False, False, False,  True,\n",
              "       False,  True, False, False,  True,  True, False, False,  True,\n",
              "        True,  True,  True,  True, False,  True,  True,  True, False,\n",
              "       False,  True,  True,  True,  True])"
            ]
          },
          "execution_count": 173,
          "metadata": {},
          "output_type": "execute_result"
        }
      ],
      "source": [
        "# condição para pares\n",
        "\n",
        "arr % 2 == 0"
      ]
    },
    {
      "cell_type": "code",
      "execution_count": null,
      "metadata": {
        "id": "ix4X_DIGksly",
        "outputId": "bb98e0b9-1457-4b25-f880-79fe368cda57"
      },
      "outputs": [
        {
          "data": {
            "text/plain": [
              "array([28, 14, 44, 64, 88, 70,  8,  0, 62, 10, 80, 34, 34, 32,  4, 40,  6,\n",
              "       72, 32, 22, 36, 98, 90, 34, 64, 98, 46,  2,  0,  4, 26,  8, 78, 14])"
            ]
          },
          "execution_count": 174,
          "metadata": {},
          "output_type": "execute_result"
        }
      ],
      "source": [
        "arr[arr % 2 == 0]"
      ]
    },
    {
      "cell_type": "code",
      "execution_count": null,
      "metadata": {
        "ExecuteTime": {
          "end_time": "2023-04-28T15:15:53.499793Z",
          "start_time": "2023-04-28T15:15:53.484165Z"
        },
        "id": "Yi9cJ995ksly",
        "outputId": "6bd9f550-06d4-46ae-a012-c5107b3f391b"
      },
      "outputs": [
        {
          "data": {
            "text/plain": [
              "array([64, 88, 70, 87, 87, 62, 80, 72, 71, 61, 87, 98, 85, 90, 64, 98, 77,\n",
              "       89, 78])"
            ]
          },
          "execution_count": 175,
          "metadata": {},
          "output_type": "execute_result"
        }
      ],
      "source": [
        "# condição para maiores que 50\n",
        "\n",
        "arr[arr>50]"
      ]
    },
    {
      "cell_type": "code",
      "execution_count": null,
      "metadata": {
        "id": "2-MLK6KXkslz",
        "outputId": "e6ba4cc2-c9ec-4e80-a874-17fff7bd68d8"
      },
      "outputs": [
        {
          "data": {
            "text/plain": [
              "array([False, False, False,  True,  True,  True, False, False, False,\n",
              "       False, False,  True, False,  True, False, False, False, False,\n",
              "       False, False, False, False,  True, False, False, False, False,\n",
              "       False, False, False, False, False,  True, False, False,  True,\n",
              "       False,  True,  True, False, False, False, False, False, False,\n",
              "       False, False, False,  True, False])"
            ]
          },
          "execution_count": 178,
          "metadata": {},
          "output_type": "execute_result"
        }
      ],
      "source": [
        "(arr % 2 == 0) & (arr>50)"
      ]
    },
    {
      "cell_type": "code",
      "execution_count": null,
      "metadata": {
        "ExecuteTime": {
          "end_time": "2023-04-28T15:15:54.863918Z",
          "start_time": "2023-04-28T15:15:54.856923Z"
        },
        "id": "0Sby07Qokslz",
        "outputId": "75e02906-e019-4855-a47e-b62c31500e55"
      },
      "outputs": [
        {
          "data": {
            "text/plain": [
              "array([64, 88, 70, 62, 80, 72, 98, 90, 64, 98, 78])"
            ]
          },
          "execution_count": 177,
          "metadata": {},
          "output_type": "execute_result"
        }
      ],
      "source": [
        "# condição correspondente a números pares E maiores que 50\n",
        "\n",
        "arr[(arr % 2 == 0) & (arr>50)]"
      ]
    },
    {
      "cell_type": "code",
      "execution_count": null,
      "metadata": {
        "ExecuteTime": {
          "end_time": "2023-04-28T15:15:55.257250Z",
          "start_time": "2023-04-28T15:15:55.241625Z"
        },
        "id": "prl4auS4ksl0",
        "outputId": "25a7a54e-5585-4e49-f2eb-ba8c47ce37bc"
      },
      "outputs": [
        {
          "data": {
            "text/plain": [
              "array([64, 88, 70, 62, 80, 72, 98, 90, 64, 98, 78])"
            ]
          },
          "execution_count": 179,
          "metadata": {},
          "output_type": "execute_result"
        }
      ],
      "source": [
        "# filtrando numeros pares E maiores que 50\n",
        "\n",
        "arr[(arr % 2 == 0) & (arr>50)]"
      ]
    },
    {
      "cell_type": "code",
      "execution_count": null,
      "metadata": {
        "ExecuteTime": {
          "end_time": "2023-04-28T15:15:56.267668Z",
          "start_time": "2023-04-28T15:15:56.248933Z"
        },
        "id": "5wnlMLtbksl1",
        "outputId": "cbae2c53-0f52-4c11-e5ba-fa4f137127d5"
      },
      "outputs": [
        {
          "data": {
            "text/plain": [
              "array([28, 14, 44, 64, 88, 70,  8, 87,  0, 87, 62, 10, 80, 34, 34, 32,  4,\n",
              "       40,  6, 72, 71, 32, 22, 61, 87, 36, 98, 85, 90, 34, 64, 98, 46, 77,\n",
              "        2,  0,  4, 89, 26,  8, 78, 14])"
            ]
          },
          "execution_count": 180,
          "metadata": {},
          "output_type": "execute_result"
        }
      ],
      "source": [
        "# numeros que são pares OU maiores que 50\n",
        "\n",
        "arr[(arr % 2 == 0) | (arr>50)]"
      ]
    },
    {
      "cell_type": "code",
      "execution_count": null,
      "metadata": {
        "ExecuteTime": {
          "end_time": "2023-04-28T15:15:56.718952Z",
          "start_time": "2023-04-28T15:15:56.703398Z"
        },
        "id": "-BwgClOWksl1",
        "outputId": "7ba248b3-ca86-44e7-b2cc-095211ab7211"
      },
      "outputs": [
        {
          "data": {
            "text/plain": [
              "array([ 7,  7, 27, 11, 33, 47, 43, 13])"
            ]
          },
          "execution_count": 181,
          "metadata": {},
          "output_type": "execute_result"
        }
      ],
      "source": [
        "# filtrando numeros impares E maiores que 50\n",
        "\n",
        "arr[(arr % 2 != 0) & (arr<50)]"
      ]
    },
    {
      "cell_type": "code",
      "execution_count": null,
      "metadata": {
        "id": "QtH8p7paksl2",
        "outputId": "1b00dbfa-5695-48af-8245-0966065f5373"
      },
      "outputs": [
        {
          "data": {
            "text/plain": [
              "array([ 7,  7, 27, 11, 33, 47, 43, 13])"
            ]
          },
          "execution_count": 186,
          "metadata": {},
          "output_type": "execute_result"
        }
      ],
      "source": [
        "arr[(~(arr % 2 == 0)) & (arr<50)]"
      ]
    },
    {
      "cell_type": "markdown",
      "metadata": {
        "id": "3dIGxC2Kksl2"
      },
      "source": [
        "___\n",
        "___\n",
        "___"
      ]
    }
  ],
  "metadata": {
    "kernelspec": {
      "display_name": "Python 3 (ipykernel)",
      "language": "python",
      "name": "python3"
    },
    "language_info": {
      "codemirror_mode": {
        "name": "ipython",
        "version": 3
      },
      "file_extension": ".py",
      "mimetype": "text/x-python",
      "name": "python",
      "nbconvert_exporter": "python",
      "pygments_lexer": "ipython3",
      "version": "3.9.13"
    },
    "colab": {
      "provenance": [],
      "include_colab_link": true
    }
  },
  "nbformat": 4,
  "nbformat_minor": 0
}